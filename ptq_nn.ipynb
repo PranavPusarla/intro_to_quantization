{
 "cells": [
  {
   "cell_type": "markdown",
   "id": "dedde0c0",
   "metadata": {},
   "source": [
    "# Post-Training Quantization"
   ]
  },
  {
   "cell_type": "markdown",
   "id": "4a491f06",
   "metadata": {},
   "source": [
    "Let's start with importing some libraries that we will need for this tutorial."
   ]
  },
  {
   "cell_type": "code",
   "execution_count": 1,
   "id": "3a928cec",
   "metadata": {
    "scrolled": true
   },
   "outputs": [
    {
     "name": "stderr",
     "output_type": "stream",
     "text": [
      "W0917 14:40:27.716000 88795 torch/distributed/elastic/multiprocessing/redirects.py:29] NOTE: Redirects are currently not supported in Windows or MacOs.\n"
     ]
    }
   ],
   "source": [
    "import torch\n",
    "import torchvision\n",
    "import torchvision.transforms as transforms\n",
    "import torchvision.datasets as datasets\n",
    "from torch.utils.data import DataLoader\n",
    "import torch.optim as optim\n",
    "from torchao.quantization import quantize_, Int8WeightOnlyConfig\n",
    "from torchao.utils import get_model_size_in_bytes\n",
    "import argparse\n",
    "import os\n",
    "import copy"
   ]
  },
  {
   "cell_type": "markdown",
   "id": "f45d6a73",
   "metadata": {},
   "source": [
    "If you're running into issues importing these libraries, check which python env the jupyter kernel is using!"
   ]
  },
  {
   "cell_type": "code",
   "execution_count": 2,
   "id": "9389eb9c",
   "metadata": {},
   "outputs": [
    {
     "name": "stdout",
     "output_type": "stream",
     "text": [
      "/usr/local/bin/python3\n"
     ]
    }
   ],
   "source": [
    "import sys\n",
    "print(sys.executable)"
   ]
  },
  {
   "cell_type": "markdown",
   "id": "301d1b2f",
   "metadata": {},
   "source": [
    "### Formatting the Training Dataset"
   ]
  },
  {
   "cell_type": "markdown",
   "id": "2b91d25f",
   "metadata": {},
   "source": [
    "We will start by normalizing our MNIST dataset with the pre-calculated mean values"
   ]
  },
  {
   "cell_type": "code",
   "execution_count": 5,
   "id": "2866ce94",
   "metadata": {},
   "outputs": [
    {
     "name": "stderr",
     "output_type": "stream",
     "text": [
      "100%|██████████| 9.91M/9.91M [00:10<00:00, 968kB/s] \n",
      "100%|██████████| 28.9k/28.9k [00:00<00:00, 408kB/s]\n",
      "100%|██████████| 1.65M/1.65M [00:00<00:00, 3.61MB/s]\n",
      "100%|██████████| 4.54k/4.54k [00:00<00:00, 4.45MB/s]\n"
     ]
    }
   ],
   "source": [
    "transform = transforms.Compose([\n",
    "    transforms.ToTensor(),\n",
    "    transforms.Normalize((0.1307,), (0.3081,))\n",
    "])\n",
    "\n",
    "train_dataset = datasets.MNIST(\n",
    "    root='./data', train=True, download=True, transform=transform\n",
    ")\n",
    "test_dataset = datasets.MNIST(\n",
    "    root='./data', train=False, download=True, transform=transform\n",
    ")"
   ]
  },
  {
   "cell_type": "markdown",
   "id": "847df14e",
   "metadata": {},
   "source": [
    "Then we'll load it into these data loaders for easy access to loading the dataset when the time comes."
   ]
  },
  {
   "cell_type": "code",
   "execution_count": 7,
   "id": "ca54541d",
   "metadata": {},
   "outputs": [],
   "source": [
    "batch_size = 64\n",
    "train_loader = DataLoader(train_dataset, batch_size=batch_size, shuffle=True)\n",
    "test_loader = DataLoader(test_dataset, batch_size=batch_size, shuffle=False)"
   ]
  },
  {
   "cell_type": "markdown",
   "id": "3811d339",
   "metadata": {},
   "source": [
    "### Neural Network Class"
   ]
  },
  {
   "cell_type": "markdown",
   "id": "d5e76b35",
   "metadata": {},
   "source": [
    "Let's define our neural network class now! We'll keep it super simple with 2 layers. Since each image is 28x28 pixels, we will have our input be of dimension 28x28. We want to output which digit the image is and since there are 10 different possible digits, we will use an output of dimension 10."
   ]
  },
  {
   "cell_type": "code",
   "execution_count": 8,
   "id": "f63d8686",
   "metadata": {},
   "outputs": [],
   "source": [
    "class Network(torch.nn.Module):\n",
    "    def __init__(self):\n",
    "        super(Network, self).__init__()\n",
    "        self.fc1 = torch.nn.Linear(28*28, 128)\n",
    "        self.fc2 = torch.nn.Linear(128, 10)\n",
    "\n",
    "    def forward(self, x):\n",
    "        x = x.view(-1, 28*28)\n",
    "        x = self.fc1(x)\n",
    "        x = torch.relu(x)\n",
    "        x = self.fc2(x)\n",
    "        return x"
   ]
  },
  {
   "cell_type": "markdown",
   "id": "9d160640",
   "metadata": {},
   "source": [
    "### Training the Model"
   ]
  },
  {
   "cell_type": "markdown",
   "id": "28c00e6b",
   "metadata": {},
   "source": [
    "Now that we have defined our model, let's train it using the dataset and see what the type and format of the weights are. (Expecting 32-bit floating point numbers)"
   ]
  },
  {
   "cell_type": "code",
   "execution_count": 9,
   "id": "ceaff205",
   "metadata": {},
   "outputs": [],
   "source": [
    "learning_rate = 1e-4\n",
    "epochs = 200"
   ]
  },
  {
   "cell_type": "code",
   "execution_count": 10,
   "id": "9d7d8163",
   "metadata": {},
   "outputs": [],
   "source": [
    "model_fp32 = Network()\n",
    "criterion = torch.nn.CrossEntropyLoss()\n",
    "optimizer = optim.SGD(model_fp32.parameters(), lr=learning_rate)"
   ]
  },
  {
   "cell_type": "code",
   "execution_count": 11,
   "id": "70de7a0b",
   "metadata": {},
   "outputs": [
    {
     "name": "stdout",
     "output_type": "stream",
     "text": [
      "Epoch [1/200], Loss: 2.1704\n",
      "Epoch [11/200], Loss: 0.8577\n",
      "Epoch [21/200], Loss: 0.4357\n",
      "Epoch [31/200], Loss: 0.6525\n",
      "Epoch [41/200], Loss: 0.4972\n",
      "Epoch [51/200], Loss: 0.2630\n",
      "Epoch [61/200], Loss: 0.5114\n",
      "Epoch [71/200], Loss: 0.3419\n",
      "Epoch [81/200], Loss: 0.3347\n",
      "Epoch [91/200], Loss: 0.2990\n",
      "Epoch [101/200], Loss: 0.2004\n",
      "Epoch [111/200], Loss: 0.3688\n",
      "Epoch [121/200], Loss: 0.4618\n",
      "Epoch [131/200], Loss: 0.5337\n",
      "Epoch [141/200], Loss: 0.2206\n",
      "Epoch [151/200], Loss: 0.4631\n",
      "Epoch [161/200], Loss: 0.1493\n",
      "Epoch [171/200], Loss: 0.3395\n",
      "Epoch [181/200], Loss: 0.3261\n",
      "Epoch [191/200], Loss: 0.1842\n",
      "Epoch [200/200], Loss: 0.4990\n"
     ]
    }
   ],
   "source": [
    "for epoch in range(epochs):\n",
    "    model_fp32.train()\n",
    "    for batch_idx, (data, target) in enumerate(train_loader):\n",
    "        optimizer.zero_grad()\n",
    "        output = model_fp32(data)\n",
    "        loss = criterion(output, target)\n",
    "        loss.backward()\n",
    "        optimizer.step()\n",
    "\n",
    "    if epoch % 10 == 0 or epoch == epochs - 1:\n",
    "        print(f\"Epoch [{epoch+1}/{epochs}], Loss: {loss.item():.4f}\")"
   ]
  },
  {
   "cell_type": "code",
   "execution_count": 12,
   "id": "eeb34ea4",
   "metadata": {
    "scrolled": true
   },
   "outputs": [
    {
     "name": "stdout",
     "output_type": "stream",
     "text": [
      "Network(\n",
      "  (fc1): Linear(in_features=784, out_features=128, bias=True)\n",
      "  (fc2): Linear(in_features=128, out_features=10, bias=True)\n",
      ")\n"
     ]
    }
   ],
   "source": [
    "print(model_fp32)"
   ]
  },
  {
   "cell_type": "markdown",
   "id": "8ac9afe5",
   "metadata": {},
   "source": [
    "Now, lets quantize the model to INT8 and see what happens to the weights. "
   ]
  },
  {
   "cell_type": "code",
   "execution_count": 13,
   "id": "98aaf98a",
   "metadata": {},
   "outputs": [],
   "source": [
    "model_int8 = copy.deepcopy(model_fp32)\n",
    "quantize_(model_int8, Int8WeightOnlyConfig())"
   ]
  },
  {
   "cell_type": "code",
   "execution_count": 14,
   "id": "3c2759ae",
   "metadata": {},
   "outputs": [
    {
     "name": "stdout",
     "output_type": "stream",
     "text": [
      "Network(\n",
      "  (fc1): Linear(in_features=784, out_features=128, weight=AffineQuantizedTensor(shape=torch.Size([128, 784]), block_size=(1, 784), device=cpu, _layout=PlainLayout(), tensor_impl_dtype=torch.int8, quant_min=None, quant_max=None))\n",
      "  (fc2): Linear(in_features=128, out_features=10, weight=AffineQuantizedTensor(shape=torch.Size([10, 128]), block_size=(1, 128), device=cpu, _layout=PlainLayout(), tensor_impl_dtype=torch.int8, quant_min=None, quant_max=None))\n",
      ")\n"
     ]
    }
   ],
   "source": [
    "print(model_int8)"
   ]
  },
  {
   "cell_type": "markdown",
   "id": "a3d58e63",
   "metadata": {},
   "source": [
    "### Evaluating the Model"
   ]
  },
  {
   "cell_type": "markdown",
   "id": "3edf74e0",
   "metadata": {},
   "source": [
    "So far, we have trained our model using 32-bit floating point weights/biases and created a quantized version using INT8. Let's see what the accuracy change is between the two and how much the model size has changed as well!"
   ]
  },
  {
   "cell_type": "code",
   "execution_count": 15,
   "id": "368af5ef",
   "metadata": {},
   "outputs": [],
   "source": [
    "model_fp32.eval()\n",
    "\n",
    "fp32_correct = 0\n",
    "fp32_total = 0\n",
    "\n",
    "with torch.no_grad():\n",
    "    for data, target in test_loader:\n",
    "        output = model_fp32(data)\n",
    "        _, predicted = torch.max(output.data, 1)\n",
    "        fp32_total += target.size(0)\n",
    "        fp32_correct += (predicted == target).sum().item()"
   ]
  },
  {
   "cell_type": "code",
   "execution_count": 16,
   "id": "55dda91c",
   "metadata": {},
   "outputs": [
    {
     "name": "stdout",
     "output_type": "stream",
     "text": [
      "Test Accuracy FP32: 92.70%\n",
      "FP32 SIZE: 0.41 MB\n"
     ]
    }
   ],
   "source": [
    "print(f\"Test Accuracy FP32: {100 * fp32_correct / fp32_total:.2f}%\")\n",
    "print(f\"FP32 SIZE: {get_model_size_in_bytes(model_fp32) / 1e6:.2f} MB\")"
   ]
  },
  {
   "cell_type": "code",
   "execution_count": 17,
   "id": "55e6fd4e",
   "metadata": {},
   "outputs": [],
   "source": [
    "model_int8.eval()\n",
    "\n",
    "int8_correct = 0\n",
    "int8_total = 0\n",
    "\n",
    "with torch.no_grad():\n",
    "    for data, target in test_loader:\n",
    "        output = model_int8(data)\n",
    "        _, predicted = torch.max(output.data, 1)\n",
    "        int8_total += target.size(0)\n",
    "        int8_correct += (predicted == target).sum().item()"
   ]
  },
  {
   "cell_type": "code",
   "execution_count": 18,
   "id": "f0723098",
   "metadata": {},
   "outputs": [
    {
     "name": "stdout",
     "output_type": "stream",
     "text": [
      "Test Accuracy INT8: 92.68%\n",
      "INT8 SIZE: 0.10 MB\n"
     ]
    }
   ],
   "source": [
    "print(f\"Test Accuracy INT8: {100 * int8_correct / int8_total:.2f}%\")\n",
    "print(f\"INT8 SIZE: {get_model_size_in_bytes(model_int8) / 1e6:.2f} MB\")"
   ]
  },
  {
   "cell_type": "markdown",
   "id": "498a1eac",
   "metadata": {},
   "source": [
    "### Results"
   ]
  },
  {
   "cell_type": "markdown",
   "id": "7c966785",
   "metadata": {},
   "source": [
    "From the comparison, we see that the accuracy reduced slightly but the model size has decreased heavily. This is due to the fact that we have reduced the precision from FP32 to INT8 which is around a reduction of 4x in bytes. Our model sizes reflect this accurately. "
   ]
  }
 ],
 "metadata": {
  "kernelspec": {
   "display_name": "Python 3",
   "language": "python",
   "name": "python3"
  },
  "language_info": {
   "codemirror_mode": {
    "name": "ipython",
    "version": 3
   },
   "file_extension": ".py",
   "mimetype": "text/x-python",
   "name": "python",
   "nbconvert_exporter": "python",
   "pygments_lexer": "ipython3",
   "version": "3.13.1"
  }
 },
 "nbformat": 4,
 "nbformat_minor": 5
}
